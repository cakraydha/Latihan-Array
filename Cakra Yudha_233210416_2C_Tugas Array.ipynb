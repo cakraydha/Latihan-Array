{
 "cells": [
  {
   "cell_type": "markdown",
   "metadata": {},
   "source": [
    "# Soal Tugas Array"
   ]
  },
  {
   "cell_type": "code",
   "execution_count": 24,
   "metadata": {},
   "outputs": [
    {
     "name": "stdout",
     "output_type": "stream",
     "text": [
      "  Nama Kelas Gender     Nomor_Hp\n",
      "0  Ana    2A  Cewek  08113322582\n",
      "1  Anu    2B  Cowok  08129988563\n",
      "2  Ano    2C  Cowok  08137896541\n",
      "3  Ani    2D  Cewek  08144447789\n",
      "4  Ane    2E  Cewek  08158886665\n",
      "5  Abu    2F  Cowok  08173337744\n",
      "6  Abi    2G  Cowok  08198877444\n"
     ]
    }
   ],
   "source": [
    "import pandas as pd\n",
    "\n",
    "# Membuat DataFrame\n",
    "data = {'Nama':['Ana','Anu','Ano','Ani','Ane','Abu','Abi'],\n",
    "       'Kelas':['2A','2B','2C','2D','2E','2F','2G'], \n",
    "       'Gender':['Cewek','Cowok','Cowok','Cewek','Cewek','Cowok','Cowok',],\n",
    "       'Nomor_Hp':['08113322582','08129988563','08137896541','08144447789','08158886665','08173337744','08198877444']}\n",
    "\n",
    "df = pd.DataFrame(data)\n",
    "print(df)"
   ]
  },
  {
   "cell_type": "markdown",
   "metadata": {},
   "source": [
    "# Jawaban Nomor 1"
   ]
  },
  {
   "cell_type": "code",
   "execution_count": 17,
   "metadata": {},
   "outputs": [
    {
     "name": "stdout",
     "output_type": "stream",
     "text": [
      "DataFrame setelah menambahkan kolom 'Domisili':\n",
      "  Nama Kelas Gender     Nomor_Hp   Domisili\n",
      "0  Ana    2A  Cewek  08113322582  Pekanbaru\n",
      "1  Anu    2B  Cowok  08129988563  Luar kota\n",
      "2  Ano    2C  Cowok  08137896541  Pekanbaru\n",
      "3  Ani    2D  Cewek  08144447789  Pekanbaru\n",
      "4  Ane    2E  Cewek  08158886665  Luar kota\n",
      "5  Abu    2F  Cowok  08173337744  Luar kota\n",
      "6  Abi    2G  Cowok  08198877444  Pekanbaru\n",
      "\n",
      "\n"
     ]
    }
   ],
   "source": [
    "import pandas as pd\n",
    "\n",
    "# Membuat DataFrame\n",
    "data = {'Nama':['Ana','Anu','Ano','Ani','Ane','Abu','Abi'],\n",
    "       'Kelas':['2A','2B','2C','2D','2E','2F','2G'], \n",
    "       'Gender':['Cewek','Cowok','Cowok','Cewek','Cewek','Cowok','Cowok'],\n",
    "       'Nomor_Hp':['08113322582','08129988563','08137896541','08144447789','08158886665','08173337744','08198877444']}\n",
    "\n",
    "df = pd.DataFrame(data)\n",
    "\n",
    "# Menambahkan kolom baru\n",
    "df['Domisili'] = ['Pekanbaru','Luar kota','Pekanbaru','Pekanbaru','Luar kota','Luar kota','Pekanbaru']\n",
    "print(\"DataFrame setelah menambahkan kolom 'Domisili':\")\n",
    "print(df)\n",
    "print(\"\\n\")"
   ]
  },
  {
   "cell_type": "markdown",
   "metadata": {},
   "source": [
    "# Jawaban Nomor 2"
   ]
  },
  {
   "cell_type": "code",
   "execution_count": 1,
   "metadata": {},
   "outputs": [
    {
     "name": "stdout",
     "output_type": "stream",
     "text": [
      "DataFrame setelah menghapus kolom 'Nomor_HP':\n",
      "  Nama Kelas Gender\n",
      "0  Ana    2A  Cewek\n",
      "1  Anu    2B  Cowok\n",
      "2  Ano    2C  Cowok\n",
      "3  Ani    2D  Cewek\n",
      "4  Ane    2E  Cewek\n",
      "5  Abu    2F  Cowok\n",
      "6  Abi    2G  Cowok\n",
      "\n",
      "\n"
     ]
    }
   ],
   "source": [
    "import pandas as pd\n",
    "\n",
    "# Membuat DataFrame\n",
    "data = {'Nama':['Ana','Anu','Ano','Ani','Ane','Abu','Abi'],\n",
    "       'Kelas':['2A','2B','2C','2D','2E','2F','2G'], \n",
    "       'Gender':['Cewek','Cowok','Cowok','Cewek','Cewek','Cowok','Cowok',],\n",
    "       'Nomor_Hp':['08113322582','08129988563','08137896541','08144447789','08158886665','08173337744','08198877444']}\n",
    "\n",
    "df = pd.DataFrame(data)\n",
    "\n",
    "# Menghapus kolom 'Nomor_Hp'\n",
    "df = df.drop(columns=['Nomor_Hp'])\n",
    "print(\"DataFrame setelah menghapus kolom 'Nomor_HP':\")\n",
    "print(df)\n",
    "print(\"\\n\")"
   ]
  },
  {
   "cell_type": "markdown",
   "metadata": {},
   "source": [
    "# Jawaban Nomor 3"
   ]
  },
  {
   "cell_type": "code",
   "execution_count": 25,
   "metadata": {},
   "outputs": [
    {
     "name": "stdout",
     "output_type": "stream",
     "text": [
      "DataFrame setelah menambahkan kolom 'Usia':\n",
      "  Nama Kelas Gender     Nomor_Hp Usia\n",
      "0  Ana    2A  Cewek  08113322582   18\n",
      "1  Anu    2B  Cowok  08129988563   17\n",
      "2  Ano    2C  Cowok  08137896541   19\n",
      "3  Ani    2D  Cewek  08144447789   19\n",
      "4  Ane    2E  Cewek  08158886665   20\n",
      "5  Abu    2F  Cowok  08173337744   22\n",
      "6  Abi    2G  Cowok  08198877444   18\n",
      "\n",
      "\n"
     ]
    }
   ],
   "source": [
    "import pandas as pd\n",
    "\n",
    "# Membuat DataFrame\n",
    "data = {'Nama':['Ana','Anu','Ano','Ani','Ane','Abu','Abi'],\n",
    "       'Kelas':['2A','2B','2C','2D','2E','2F','2G'], \n",
    "       'Gender':['Cewek','Cowok','Cowok','Cewek','Cewek','Cowok','Cowok',],\n",
    "       'Nomor_Hp':['08113322582','08129988563','08137896541','08144447789','08158886665','08173337744','08198877444']}\n",
    "\n",
    "df = pd.DataFrame(data)\n",
    "\n",
    "# Menambahkan kolom baru\n",
    "df['Usia'] = ['18','17','19','19','20','22','18']\n",
    "print(\"DataFrame setelah menambahkan kolom 'Usia':\")\n",
    "print(df)\n",
    "print(\"\\n\")"
   ]
  },
  {
   "cell_type": "markdown",
   "metadata": {},
   "source": [
    "# Jawaban Nomor 4"
   ]
  },
  {
   "cell_type": "code",
   "execution_count": 49,
   "metadata": {},
   "outputs": [
    {
     "name": "stdout",
     "output_type": "stream",
     "text": [
      "Rata-rata Usia: 19.0\n",
      "Total Usia: 133\n",
      "\n",
      "\n"
     ]
    }
   ],
   "source": [
    "import pandas as pd\n",
    "\n",
    "# Membuat DataFrame\n",
    "data = {'Nama':['Ana','Anu','Ano','Ani','Ane','Abu','Abi'],\n",
    "       'Kelas':['2A','2B','2C','2D','2E','2F','2G'], \n",
    "       'Gender':['Cewek','Cowok','Cowok','Cewek','Cewek','Cowok','Cowok',],\n",
    "       'Nomor_Hp':['08113322582','08129988563','08137896541','08144447789','08158886665','08173337744','08198877444'],\n",
    "       'Usia':['18','17','19','19','20','22','18']}\n",
    "\n",
    "df = pd.DataFrame(data)\n",
    "\n",
    "# Menghitung rata-rata usia\n",
    "df['Usia'] = pd.to_numeric(df['Usia'])\n",
    "rata_usia = df['Usia'].mean()\n",
    "jumlah_usia = df['Usia'].sum()\n",
    "\n",
    "print(\"Rata-rata Usia:\", rata_usia)\n",
    "print(\"Total Usia:\", jumlah_usia)\n",
    "print(\"\\n\")"
   ]
  },
  {
   "cell_type": "markdown",
   "metadata": {},
   "source": [
    "# Jawaban Nomor 5"
   ]
  },
  {
   "cell_type": "code",
   "execution_count": 43,
   "metadata": {},
   "outputs": [
    {
     "name": "stdout",
     "output_type": "stream",
     "text": [
      "Jumlah orang per kota:\n",
      "Jumlah domisili Pekanbaru : 4\n",
      "Jumlah domisili Luar Kota : 3\n"
     ]
    }
   ],
   "source": [
    "import pandas as pd\n",
    "\n",
    "# Membuat DataFrame\n",
    "data = {'Nama':['Ana','Anu','Ano','Ani','Ane','Abu','Abi'],\n",
    "       'Kelas':['2A','2B','2C','2D','2E','2F','2G'], \n",
    "       'Gender':['Cewek','Cowok','Cowok','Cewek','Cewek','Cowok','Cowok',],\n",
    "       'Nomor_Hp':['08113322582','08129988563','08137896541','08144447789','08158886665','08173337744','08198877444'],\n",
    "       'Domisili':['Pekanbaru','Luar kota','Pekanbaru','Pekanbaru','Luar kota','Luar kota','Pekanbaru']}\n",
    "\n",
    "df = pd.DataFrame(data)\n",
    "\n",
    "# Menghitung jumlah asal orang dari setiap kota\n",
    "jumlah_per_kota = df['Domisili'].value_counts()\n",
    "jumlah_domisili = jumlah_per_kota['Pekanbaru']\n",
    "jumlah_luar_kota = jumlah_per_kota['Luar kota']\n",
    "\n",
    "print(\"Jumlah orang per kota:\")\n",
    "print(f\"Jumlah domisili Pekanbaru : {jumlah_domisili}\")\n",
    "print(f\"Jumlah domisili Luar Kota : {jumlah_luar_kota}\")"
   ]
  }
 ],
 "metadata": {
  "kernelspec": {
   "display_name": "Python 3",
   "language": "python",
   "name": "python3"
  },
  "language_info": {
   "codemirror_mode": {
    "name": "ipython",
    "version": 3
   },
   "file_extension": ".py",
   "mimetype": "text/x-python",
   "name": "python",
   "nbconvert_exporter": "python",
   "pygments_lexer": "ipython3",
   "version": "3.12.2"
  }
 },
 "nbformat": 4,
 "nbformat_minor": 2
}
